{
  "nbformat": 4,
  "nbformat_minor": 0,
  "metadata": {
    "colab": {
      "name": "SA_Amazon_Updated.ipynb",
      "provenance": [],
      "collapsed_sections": []
    },
    "kernelspec": {
      "name": "python3",
      "display_name": "Python 3"
    },
    "accelerator": "GPU"
  },
  "cells": [
    {
      "cell_type": "code",
      "metadata": {
        "id": "ldbnIEk6lE2j"
      },
      "source": [
        "import pandas as pd"
      ],
      "execution_count": null,
      "outputs": []
    },
    {
      "cell_type": "code",
      "metadata": {
        "colab": {
          "base_uri": "https://localhost:8080/",
          "height": 198
        },
        "id": "LpAvQqkmlZ9s",
        "outputId": "e0f1481a-d16c-4552-ed04-32050694761f"
      },
      "source": [
        "df = pd.read_csv(\"/content/drive/MyDrive/Sentiment Analaysis/Amazon_Mobile_Reviews/Amazon_Unlocked_Mobile_Updated.csv\")\r\n",
        "df.head()"
      ],
      "execution_count": null,
      "outputs": [
        {
          "output_type": "execute_result",
          "data": {
            "text/html": [
              "<div>\n",
              "<style scoped>\n",
              "    .dataframe tbody tr th:only-of-type {\n",
              "        vertical-align: middle;\n",
              "    }\n",
              "\n",
              "    .dataframe tbody tr th {\n",
              "        vertical-align: top;\n",
              "    }\n",
              "\n",
              "    .dataframe thead th {\n",
              "        text-align: right;\n",
              "    }\n",
              "</style>\n",
              "<table border=\"1\" class=\"dataframe\">\n",
              "  <thead>\n",
              "    <tr style=\"text-align: right;\">\n",
              "      <th></th>\n",
              "      <th>Rating</th>\n",
              "      <th>Reviews</th>\n",
              "    </tr>\n",
              "  </thead>\n",
              "  <tbody>\n",
              "    <tr>\n",
              "      <th>0</th>\n",
              "      <td>1</td>\n",
              "      <td>I feel so LUCKY to have found this used (phone...</td>\n",
              "    </tr>\n",
              "    <tr>\n",
              "      <th>1</th>\n",
              "      <td>1</td>\n",
              "      <td>nice phone, nice up grade from my pantach revu...</td>\n",
              "    </tr>\n",
              "    <tr>\n",
              "      <th>2</th>\n",
              "      <td>1</td>\n",
              "      <td>Very pleased</td>\n",
              "    </tr>\n",
              "    <tr>\n",
              "      <th>3</th>\n",
              "      <td>1</td>\n",
              "      <td>It works good but it goes slow sometimes but i...</td>\n",
              "    </tr>\n",
              "    <tr>\n",
              "      <th>4</th>\n",
              "      <td>1</td>\n",
              "      <td>Great phone to replace my lost phone. The only...</td>\n",
              "    </tr>\n",
              "  </tbody>\n",
              "</table>\n",
              "</div>"
            ],
            "text/plain": [
              "   Rating                                            Reviews\n",
              "0       1  I feel so LUCKY to have found this used (phone...\n",
              "1       1  nice phone, nice up grade from my pantach revu...\n",
              "2       1                                       Very pleased\n",
              "3       1  It works good but it goes slow sometimes but i...\n",
              "4       1  Great phone to replace my lost phone. The only..."
            ]
          },
          "metadata": {
            "tags": []
          },
          "execution_count": 2
        }
      ]
    },
    {
      "cell_type": "code",
      "metadata": {
        "colab": {
          "base_uri": "https://localhost:8080/"
        },
        "id": "GMLB2VBrlkyd",
        "outputId": "0b4246d9-bef0-4043-8d58-9c71880ee874"
      },
      "source": [
        "df.shape"
      ],
      "execution_count": null,
      "outputs": [
        {
          "output_type": "execute_result",
          "data": {
            "text/plain": [
              "(413840, 2)"
            ]
          },
          "metadata": {
            "tags": []
          },
          "execution_count": 3
        }
      ]
    },
    {
      "cell_type": "code",
      "metadata": {
        "colab": {
          "base_uri": "https://localhost:8080/"
        },
        "id": "hmPbFK7ol2nR",
        "outputId": "ed59c179-ed15-406c-97de-8f90eb42f6e3"
      },
      "source": [
        "df.isnull().sum()"
      ],
      "execution_count": null,
      "outputs": [
        {
          "output_type": "execute_result",
          "data": {
            "text/plain": [
              "Rating     0\n",
              "Reviews    0\n",
              "dtype: int64"
            ]
          },
          "metadata": {
            "tags": []
          },
          "execution_count": 4
        }
      ]
    },
    {
      "cell_type": "code",
      "metadata": {
        "colab": {
          "base_uri": "https://localhost:8080/",
          "height": 198
        },
        "id": "K1p7PVazl5Y4",
        "outputId": "fd1a977b-c863-450e-a55e-fa37d81ea548"
      },
      "source": [
        "df.tail()"
      ],
      "execution_count": null,
      "outputs": [
        {
          "output_type": "execute_result",
          "data": {
            "text/html": [
              "<div>\n",
              "<style scoped>\n",
              "    .dataframe tbody tr th:only-of-type {\n",
              "        vertical-align: middle;\n",
              "    }\n",
              "\n",
              "    .dataframe tbody tr th {\n",
              "        vertical-align: top;\n",
              "    }\n",
              "\n",
              "    .dataframe thead th {\n",
              "        text-align: right;\n",
              "    }\n",
              "</style>\n",
              "<table border=\"1\" class=\"dataframe\">\n",
              "  <thead>\n",
              "    <tr style=\"text-align: right;\">\n",
              "      <th></th>\n",
              "      <th>Rating</th>\n",
              "      <th>Reviews</th>\n",
              "    </tr>\n",
              "  </thead>\n",
              "  <tbody>\n",
              "    <tr>\n",
              "      <th>413835</th>\n",
              "      <td>1</td>\n",
              "      <td>another great deal great price</td>\n",
              "    </tr>\n",
              "    <tr>\n",
              "      <th>413836</th>\n",
              "      <td>0</td>\n",
              "      <td>Ok</td>\n",
              "    </tr>\n",
              "    <tr>\n",
              "      <th>413837</th>\n",
              "      <td>1</td>\n",
              "      <td>Passes every drop test onto porcelain tile!</td>\n",
              "    </tr>\n",
              "    <tr>\n",
              "      <th>413838</th>\n",
              "      <td>0</td>\n",
              "      <td>I returned it because it did not meet my needs...</td>\n",
              "    </tr>\n",
              "    <tr>\n",
              "      <th>413839</th>\n",
              "      <td>1</td>\n",
              "      <td>Only downside is that apparently Verizon no lo...</td>\n",
              "    </tr>\n",
              "  </tbody>\n",
              "</table>\n",
              "</div>"
            ],
            "text/plain": [
              "        Rating                                            Reviews\n",
              "413835       1                     another great deal great price\n",
              "413836       0                                                 Ok\n",
              "413837       1        Passes every drop test onto porcelain tile!\n",
              "413838       0  I returned it because it did not meet my needs...\n",
              "413839       1  Only downside is that apparently Verizon no lo..."
            ]
          },
          "metadata": {
            "tags": []
          },
          "execution_count": 5
        }
      ]
    },
    {
      "cell_type": "code",
      "metadata": {
        "colab": {
          "base_uri": "https://localhost:8080/"
        },
        "id": "KDpEOJBsmJ_U",
        "outputId": "26722f18-b762-4cc0-b7e5-a19b8f8ce67c"
      },
      "source": [
        "y = df[\"Rating\"]\r\n",
        "y"
      ],
      "execution_count": null,
      "outputs": [
        {
          "output_type": "execute_result",
          "data": {
            "text/plain": [
              "0         1\n",
              "1         1\n",
              "2         1\n",
              "3         1\n",
              "4         1\n",
              "         ..\n",
              "413835    1\n",
              "413836    0\n",
              "413837    1\n",
              "413838    0\n",
              "413839    1\n",
              "Name: Rating, Length: 413840, dtype: int64"
            ]
          },
          "metadata": {
            "tags": []
          },
          "execution_count": 6
        }
      ]
    },
    {
      "cell_type": "code",
      "metadata": {
        "id": "u-lmSABX9WYk",
        "colab": {
          "base_uri": "https://localhost:8080/"
        },
        "outputId": "0ecf04fa-ca95-4752-8d06-31bbdf1b56a7"
      },
      "source": [
        "reviews=df.copy()\r\n",
        "\r\n",
        "import nltk\r\n",
        "\r\n",
        "nltk.download('stopwords')\r\n",
        "nltk.download('wordnet')"
      ],
      "execution_count": null,
      "outputs": [
        {
          "output_type": "stream",
          "text": [
            "[nltk_data] Downloading package stopwords to /root/nltk_data...\n",
            "[nltk_data]   Unzipping corpora/stopwords.zip.\n",
            "[nltk_data] Downloading package wordnet to /root/nltk_data...\n",
            "[nltk_data]   Unzipping corpora/wordnet.zip.\n"
          ],
          "name": "stdout"
        },
        {
          "output_type": "execute_result",
          "data": {
            "text/plain": [
              "True"
            ]
          },
          "metadata": {
            "tags": []
          },
          "execution_count": 7
        }
      ]
    },
    {
      "cell_type": "code",
      "metadata": {
        "id": "tqbAhmdp8vRW"
      },
      "source": [
        "import time\r\n",
        "start = time.time()\r\n",
        "from IPython.display import clear_output\r\n",
        "corpus = []\r\n",
        "import re\r\n",
        "from nltk.corpus import stopwords\r\n",
        "from nltk.stem import WordNetLemmatizer\r\n",
        "wordnet = WordNetLemmatizer()\r\n",
        "for i in range(0,len(reviews)):\r\n",
        "    print(i)\r\n",
        "    clear_output(wait=True)\r\n",
        "    data =  re.sub('[^a-zA-Z]', ' ', reviews[\"Reviews\"][i])\r\n",
        "    data = re.sub('<.*?>',\" \",data)\r\n",
        "    data = data.lower()\r\n",
        "    data = data.split()\r\n",
        "    data = [wordnet.lemmatize(word) for word in data if not word in stopwords.words('english')]\r\n",
        "    data = ' '.join(data)\r\n",
        "    corpus.append(data)\r\n",
        "end = time.time()\r\n",
        "print(end - start)\r\n",
        "print(corpus)"
      ],
      "execution_count": null,
      "outputs": []
    },
    {
      "cell_type": "code",
      "metadata": {
        "id": "t6TEDdYIl-ae"
      },
      "source": [
        "import pickle"
      ],
      "execution_count": null,
      "outputs": []
    },
    {
      "cell_type": "code",
      "metadata": {
        "id": "mwnarx_q9dVJ"
      },
      "source": [
        "pickle.dump(corpus, open(\"corpus_amazon.pkl\", \"wb\"))"
      ],
      "execution_count": null,
      "outputs": []
    },
    {
      "cell_type": "code",
      "metadata": {
        "id": "cJJbXKYimFuM"
      },
      "source": [
        "corpus = pickle.load(open(\"/content/drive/MyDrive/Sentiment Analaysis/Amazon_Mobile_Reviews/corpus_amazon.pkl\", \"rb\"))"
      ],
      "execution_count": null,
      "outputs": []
    },
    {
      "cell_type": "code",
      "metadata": {
        "colab": {
          "base_uri": "https://localhost:8080/"
        },
        "id": "HRLBdqk7mIDk",
        "outputId": "c8e521cd-b1b2-46c2-be2b-4784281b575e"
      },
      "source": [
        "from sklearn.feature_extraction.text import TfidfVectorizer\r\n",
        "cv_2 = TfidfVectorizer(max_features=50000,ngram_range=(1,3))\r\n",
        "X_tfid = cv_2.fit_transform(corpus)\r\n",
        "X_tfid.shape"
      ],
      "execution_count": null,
      "outputs": [
        {
          "output_type": "execute_result",
          "data": {
            "text/plain": [
              "(413840, 50000)"
            ]
          },
          "metadata": {
            "tags": []
          },
          "execution_count": 13
        }
      ]
    },
    {
      "cell_type": "code",
      "metadata": {
        "colab": {
          "base_uri": "https://localhost:8080/"
        },
        "id": "Shk4tri6nK-9",
        "outputId": "b8d1048d-ff83-4fde-fdb0-26067294624a"
      },
      "source": [
        "from sklearn.model_selection import train_test_split\r\n",
        "X_train, X_test, y_train, y_test = train_test_split(X_tfid, y, test_size=0.20, random_state=0)\r\n",
        "\r\n",
        "from sklearn.linear_model import LogisticRegression\r\n",
        "model = LogisticRegression().fit(X_train, y_train)"
      ],
      "execution_count": null,
      "outputs": [
        {
          "output_type": "stream",
          "text": [
            "/usr/local/lib/python3.6/dist-packages/sklearn/linear_model/_logistic.py:940: ConvergenceWarning: lbfgs failed to converge (status=1):\n",
            "STOP: TOTAL NO. of ITERATIONS REACHED LIMIT.\n",
            "\n",
            "Increase the number of iterations (max_iter) or scale the data as shown in:\n",
            "    https://scikit-learn.org/stable/modules/preprocessing.html\n",
            "Please also refer to the documentation for alternative solver options:\n",
            "    https://scikit-learn.org/stable/modules/linear_model.html#logistic-regression\n",
            "  extra_warning_msg=_LOGISTIC_SOLVER_CONVERGENCE_MSG)\n"
          ],
          "name": "stderr"
        }
      ]
    },
    {
      "cell_type": "code",
      "metadata": {
        "colab": {
          "base_uri": "https://localhost:8080/"
        },
        "id": "6jHIhSc9nWPt",
        "outputId": "a018b59b-96f0-4f4c-c16c-ff2a8161d3a6"
      },
      "source": [
        "import numpy as np\r\n",
        "\r\n",
        "y_pred=model.predict(X_test)\r\n",
        "print(np.array(y_pred))\r\n",
        "\r\n",
        "from sklearn.metrics import confusion_matrix,accuracy_score\r\n",
        "cm = confusion_matrix(y_test, y_pred)\r\n",
        "score = accuracy_score(y_test,y_pred)\r\n",
        "print(cm,score*100)"
      ],
      "execution_count": null,
      "outputs": [
        {
          "output_type": "stream",
          "text": [
            "[1 1 1 ... 1 1 1]\n",
            "[[17276   346  2010]\n",
            " [ 1752  1881  2690]\n",
            " [ 1281   393 55139]] 89.76416006185966\n"
          ],
          "name": "stdout"
        }
      ]
    },
    {
      "cell_type": "code",
      "metadata": {
        "colab": {
          "base_uri": "https://localhost:8080/",
          "height": 295
        },
        "id": "5Fs-Cojtnqot",
        "outputId": "8e9bc0d2-2fc6-4925-fd50-ca03c936e97e"
      },
      "source": [
        "import seaborn as sns\r\n",
        "import matplotlib.pyplot as plt     \r\n",
        "\r\n",
        "ax= plt.subplot()\r\n",
        "sns.heatmap(cm, annot=True, ax = ax);\r\n",
        "\r\n",
        "ax.set_xlabel('Predicted labels');ax.set_ylabel('True labels'); \r\n",
        "ax.set_title('Confusion Matrix Tfidf Vectorizer'); \r\n",
        "ax.xaxis.set_ticklabels(['Positive', 'Negative']); ax.yaxis.set_ticklabels(['Negative', 'Positive']);"
      ],
      "execution_count": null,
      "outputs": [
        {
          "output_type": "display_data",
          "data": {
            "image/png": "[encoded data removed]",
            "text/plain": [
              "<Figure size 432x288 with 2 Axes>"
            ]
          },
          "metadata": {
            "tags": [],
            "needs_background": "light"
          }
        }
      ]
    },
    {
      "cell_type": "code",
      "metadata": {
        "colab": {
          "base_uri": "https://localhost:8080/"
        },
        "id": "7wmtTSk4n3We",
        "outputId": "d7f6bd1b-746b-4539-b73d-87cc7245a7a9"
      },
      "source": [
        "from sklearn.feature_extraction.text import TfidfVectorizer\r\n",
        "from nltk.corpus import stopwords\r\n",
        "from nltk.stem import WordNetLemmatizer\r\n",
        "wordnet = WordNetLemmatizer()\r\n",
        "def new_review(new_review):\r\n",
        "    new_review = new_review\r\n",
        "    new_review = re.sub('[^a-zA-Z]', ' ', new_review)\r\n",
        "    new_review = new_review.lower()\r\n",
        "    new_review = new_review.split()\r\n",
        "    all_stopwords = stopwords.words('english')\r\n",
        "    all_stopwords.remove('not')\r\n",
        "    new_review = [wordnet.lemmatize(word) for word in new_review if not word in set(all_stopwords)]\r\n",
        "    new_review = ' '.join(new_review)\r\n",
        "    new_corpus = [new_review]\r\n",
        "    new_X_test = cv_2.transform(new_corpus).toarray()\r\n",
        "    pred = model.predict(new_X_test)\r\n",
        "    return pred\r\n",
        "\r\n",
        "new_review = new_review(str(input(\"Enter new review...\")))\r\n",
        "print(new_review)\r\n",
        "print()\r\n",
        "\r\n",
        "if new_review == 1:\r\n",
        "  print(\"Positive\")\r\n",
        "elif new_review == 0:\r\n",
        "  print(\"Neutral\")\r\n",
        "elif new_review ==-1:\r\n",
        "  print(\"Negative\")"
      ],
      "execution_count": null,
      "outputs": [
        {
          "output_type": "stream",
          "text": [
            "Enter new review...worst mobile ever\n",
            "[-1]\n",
            "\n",
            "Negative\n"
          ],
          "name": "stdout"
        }
      ]
    },
    {
      "cell_type": "code",
      "metadata": {
        "id": "INEJ0ppxoO63"
      },
      "source": [
        "pickle.dump(model, open(\"model_mobile.pkl\", \"wb\"))"
      ],
      "execution_count": null,
      "outputs": []
    },
    {
      "cell_type": "code",
      "metadata": {
        "id": "ooiHQp2kplkO"
      },
      "source": [
        ""
      ],
      "execution_count": null,
      "outputs": []
    }
  ]
}